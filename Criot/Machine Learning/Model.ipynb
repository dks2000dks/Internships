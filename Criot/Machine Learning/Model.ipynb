{
  "nbformat": 4,
  "nbformat_minor": 0,
  "metadata": {
    "colab": {
      "name": "Model",
      "provenance": [],
      "collapsed_sections": [
        "fZB3panNs4oW",
        "-se1gGfOfBb9",
        "s_HvUMKzfH8H",
        "ymOuaXrix49z",
        "M8rSMmcLw82w",
        "O4b5l5VBxPKN",
        "tC_V6FCUumGF",
        "hHS8qfqVtanb",
        "ktPx0qeytxUr"
      ]
    },
    "kernelspec": {
      "name": "python3",
      "display_name": "Python 3"
    },
    "accelerator": "TPU"
  },
  "cells": [
    {
      "cell_type": "markdown",
      "metadata": {
        "colab_type": "text",
        "id": "fxGbP6uFcjwO"
      },
      "source": [
        "# ***Importing Requirements***"
      ]
    },
    {
      "cell_type": "markdown",
      "metadata": {
        "id": "eS1HPvPkbwzA",
        "colab_type": "text"
      },
      "source": [
        "### Importing Libraries"
      ]
    },
    {
      "cell_type": "code",
      "metadata": {
        "id": "L1Y9dEsCbwd5",
        "colab_type": "code",
        "colab": {}
      },
      "source": [
        "import numpy as np\n",
        "from numpy import loadtxt\n",
        "from keras.models import Sequential\n",
        "from keras.layers import Dense\n",
        "import pandas as pd\n",
        "import keras\n",
        "\n",
        "from __future__ import print_function\n",
        "\n",
        "import math\n",
        "\n",
        "from IPython import display\n",
        "from matplotlib import cm\n",
        "from matplotlib import gridspec\n",
        "from matplotlib import pyplot as plt\n",
        "import numpy as np\n",
        "import pandas as pd\n",
        "from sklearn import metrics\n",
        "import tensorflow as tf\n",
        "from tensorflow.python.data import Dataset\n"
      ],
      "execution_count": 0,
      "outputs": []
    },
    {
      "cell_type": "markdown",
      "metadata": {
        "id": "4XWrzcdTcCmx",
        "colab_type": "text"
      },
      "source": [
        "### Importing Data\n",
        "\n"
      ]
    },
    {
      "cell_type": "code",
      "metadata": {
        "id": "kqE7X9BFcDJK",
        "colab_type": "code",
        "colab": {}
      },
      "source": [
        "from google.colab import files\n",
        "\n",
        "uploaded = files.upload()\n",
        "\n",
        "for fn in uploaded.keys():\n",
        "  print('User uploaded file \"{name}\" with length {length} bytes'.format(\n",
        "      name=fn, length=len(uploaded[fn])))"
      ],
      "execution_count": 0,
      "outputs": []
    },
    {
      "cell_type": "markdown",
      "metadata": {
        "id": "fZB3panNs4oW",
        "colab_type": "text"
      },
      "source": [
        "# ***Classifier***"
      ]
    },
    {
      "cell_type": "code",
      "metadata": {
        "id": "cZWzSeJQsDbv",
        "colab_type": "code",
        "colab": {}
      },
      "source": [
        "df = pd.read_csv('Classifier.csv',sep=',')"
      ],
      "execution_count": 0,
      "outputs": []
    },
    {
      "cell_type": "markdown",
      "metadata": {
        "id": "ymOuaXrix49z",
        "colab_type": "text"
      },
      "source": [
        "### Maniplating and Pre-Processing Data"
      ]
    },
    {
      "cell_type": "markdown",
      "metadata": {
        "id": "DhBQ2X2l9sH6",
        "colab_type": "text"
      },
      "source": [
        "Performing One-Hot Encoding"
      ]
    },
    {
      "cell_type": "code",
      "metadata": {
        "id": "Dep0aDiIyF-r",
        "colab_type": "code",
        "colab": {}
      },
      "source": [
        "df['ISleep'] = (df[\"Mode\"] == 0)*1.0\n",
        "df['IRead'] = (df[\"Mode\"] == 1)*1.0\n",
        "df['INormal'] = (df[\"Mode\"] == 2)*1.0\n",
        "\n",
        "df['OSleep'] = (df[\"Output\"] == 0)*1.0\n",
        "df['ORead'] = (df[\"Output\"] == 1)*1.0\n",
        "df['ONormal'] = (df[\"Output\"] == 2)*1.0\n",
        "df['Deactivate'] = (df[\"Output\"] == -1)*1.0\n",
        "\n",
        "print (df.describe())"
      ],
      "execution_count": 0,
      "outputs": []
    },
    {
      "cell_type": "markdown",
      "metadata": {
        "id": "fw-FvQkt9xM3",
        "colab_type": "text"
      },
      "source": [
        "Setting Parameters"
      ]
    },
    {
      "cell_type": "code",
      "metadata": {
        "id": "f2Trc9YOrCgK",
        "colab_type": "code",
        "colab": {}
      },
      "source": [
        "X = df[[\"0-1\",\"1-2\",\"2-3\",\"3-4\",\"4-5\",\"5-6\",\"6-7\",\"7-8\",\"8-9\",\"9-10\",\"10-11\",\"11-12\",\"12-13\",\"13-14\",\"14-15\",\"15-16\",\"16-17\",\"17-18\",\"18-19\",\"19-20\",\"20-21\",\"21-22\",\"22-23\",\"23-24\",\"PIR\",\"IRead\",\"ISleep\",\"INormal\"]]\n",
        "y = df[[\"OSleep\", \"ORead\",\"ONormal\",\"Deactivate\"]]"
      ],
      "execution_count": 0,
      "outputs": []
    },
    {
      "cell_type": "markdown",
      "metadata": {
        "id": "M8rSMmcLw82w",
        "colab_type": "text"
      },
      "source": [
        "### Creating and Evaluating Model"
      ]
    },
    {
      "cell_type": "code",
      "metadata": {
        "id": "C64-gJOUwiqM",
        "colab_type": "code",
        "colab": {}
      },
      "source": [
        "keras.backend.clear_session()\n",
        "model = Sequential()\n",
        "model.add(Dense(20, input_dim=28, activation='relu'))\n",
        "model.add(Dense(12, activation='relu'))\n",
        "model.add(Dense(4, activation='softmax'))"
      ],
      "execution_count": 0,
      "outputs": []
    },
    {
      "cell_type": "code",
      "metadata": {
        "id": "zvFDcri5xGg7",
        "colab_type": "code",
        "colab": {}
      },
      "source": [
        "model.summary()"
      ],
      "execution_count": 0,
      "outputs": []
    },
    {
      "cell_type": "code",
      "metadata": {
        "id": "zbrhBNktxIMi",
        "colab_type": "code",
        "colab": {}
      },
      "source": [
        "model.compile(loss='categorical_crossentropy', optimizer='adam', metrics=['accuracy'])"
      ],
      "execution_count": 0,
      "outputs": []
    },
    {
      "cell_type": "markdown",
      "metadata": {
        "id": "O4b5l5VBxPKN",
        "colab_type": "text"
      },
      "source": [
        "### Training Model"
      ]
    },
    {
      "cell_type": "code",
      "metadata": {
        "id": "zOLjsPwtxOjc",
        "colab_type": "code",
        "colab": {}
      },
      "source": [
        "model.fit(X, y, epochs=20, batch_size=250)\n",
        "Array, accuracy = model.evaluate(X, y)\n",
        "\n",
        "print('Accuracy: %.2f' % (accuracy*100))"
      ],
      "execution_count": 0,
      "outputs": []
    },
    {
      "cell_type": "markdown",
      "metadata": {
        "id": "WOJjOCuw96dV",
        "colab_type": "text"
      },
      "source": [
        "### Predicting the Output"
      ]
    },
    {
      "cell_type": "code",
      "metadata": {
        "id": "dQ8pvmwK-A6R",
        "colab_type": "code",
        "colab": {}
      },
      "source": [
        "Prediction = model.predict(X)\n",
        "\n",
        "\n",
        "Possible_Outputs = [\"Sleep\",\"Read\",\"Normal\",\"Deactivate\"]\n",
        "\n",
        "Predicted_class = np.argmax(Prediction,axis=-1)\n",
        "print (Predicted_class)\n",
        "print (Possible_Outputs[Predicted_class[9000]])"
      ],
      "execution_count": 0,
      "outputs": []
    },
    {
      "cell_type": "markdown",
      "metadata": {
        "id": "JOU2IkQYszFQ",
        "colab_type": "text"
      },
      "source": [
        "# ***Intensity Predictor***\n"
      ]
    },
    {
      "cell_type": "markdown",
      "metadata": {
        "id": "hHS8qfqVtanb",
        "colab_type": "text"
      },
      "source": [
        "### Importing Data"
      ]
    },
    {
      "cell_type": "code",
      "metadata": {
        "id": "6i6dkOnhtDZn",
        "colab_type": "code",
        "colab": {}
      },
      "source": [
        "sleep = pd.read_csv('Sleep.csv',sep=',')\n",
        "read = pd.read_csv('Read.csv',sep=',')\n",
        "normal = pd.read_csv('Normal.csv',sep=',')"
      ],
      "execution_count": 0,
      "outputs": []
    },
    {
      "cell_type": "markdown",
      "metadata": {
        "id": "BJBfFU_LtedQ",
        "colab_type": "text"
      },
      "source": [
        "### Linear Regression"
      ]
    },
    {
      "cell_type": "code",
      "metadata": {
        "id": "BCyGPJIdtSP4",
        "colab_type": "code",
        "colab": {}
      },
      "source": [
        "def Training(x,y,training_epochs,learning_rate):\n",
        "\t\n",
        "\tq = float(y.max())\n",
        "\tp = -1.25 * float((y.max() - y.min())/(x.max() - x.min()))\n",
        "\t\n",
        "\tW = tf.Variable(p) \n",
        "\tb = tf.Variable(q)\n",
        "\t\n",
        "\tX = tf.placeholder(\"float\")\n",
        "\tY = tf.placeholder(\"float\")\n",
        "\n",
        "\tn = len(x)\n",
        "\t# Hypothesis \n",
        "\ty_pred = tf.add(tf.multiply(X, W), b)\n",
        "\t\n",
        "\t# Mean Squared Error Cost Function \n",
        "\tcost = tf.reduce_sum(tf.pow(y_pred-Y, 2)) / (2 * n) \n",
        "\n",
        "\toptimizer = tf.train.AdamOptimizer(learning_rate).minimize(cost) \n",
        "\n",
        "\t# Global Variables Initializer \n",
        "\tinit = tf.global_variables_initializer() \n",
        "\n",
        "\t# Starting the Tensorflow Session Classifer\n",
        "\twith tf.Session() as sess: \n",
        "\t\t# Initializing the Variables \n",
        "\t\tsess.run(init) \n",
        "\t\n",
        "\t\t# Iterating through all the epochs \n",
        "\t\tfor epoch in range(training_epochs): \n",
        "\t\t\t\n",
        "\t\t\t# Feeding each data point into the optimizer using Feed Dictionary \n",
        "\t\t\tfor (_x, _y) in zip(x, y): \n",
        "\t\t\t\tsess.run(optimizer, feed_dict = {X : _x, Y : _y}) \n",
        "\t\t\n",
        "\t\t\t# Displaying the result after every 50 epochs \n",
        "\t\t\tif (epoch + 1) % 50 == 0: \n",
        "\t\t\t\t# Calculating the cost a every epoch \n",
        "\t\t\t\tc = sess.run(cost, feed_dict = {X : x, Y : y}) \n",
        "\t\t\t\tprint(\"Epoch\", (epoch + 1), \": cost =\", c, \"W =\", sess.run(W), \"b =\", sess.run(b)) \n",
        "\t\n",
        "\t\t# Storing necessary values to be used outside the Session \n",
        "\t\ttraining_cost = sess.run(cost, feed_dict ={X: x, Y: y}) \n",
        "\t\tweight = sess.run(W) \n",
        "\t\tbias = sess.run(b) \n",
        "\n",
        "\t# Calculating the predictions \n",
        "\tpredictions = weight * x + bias \n",
        "\tprint(\"Training cost =\", training_cost, \"Weight =\", weight, \"bias =\", bias, '\\n') \n",
        "\n",
        "\t# Plotting the Results \n",
        "\tplt.plot(x, y, 'ro', label ='Original data') \n",
        "\tplt.plot(x, predictions, label ='Fitted line') \n",
        "\tplt.title('Linear Regression Result') \n",
        "\tplt.legend() \n",
        "\tplt.show()\n",
        "\n",
        "\treturn weight,bias\n",
        "\t"
      ],
      "execution_count": 0,
      "outputs": []
    },
    {
      "cell_type": "markdown",
      "metadata": {
        "colab_type": "text",
        "id": "b-0f8JQmcaXG"
      },
      "source": [
        "### Visualising Data"
      ]
    },
    {
      "cell_type": "code",
      "metadata": {
        "colab_type": "code",
        "id": "V6e2y61lcaW7",
        "colab": {}
      },
      "source": [
        "x_sleep = sleep[\"Intensity\"]\n",
        "y_sleep = sleep[\"Output\"]\n",
        "\n",
        "# Plot of Training Data \n",
        "plt.scatter(x_sleep, y_sleep) \n",
        "plt.xlabel('x') \n",
        "plt.xlabel('y') \n",
        "plt.title(\"Training Data\") \n",
        "plt.show() "
      ],
      "execution_count": 0,
      "outputs": []
    },
    {
      "cell_type": "code",
      "metadata": {
        "colab_type": "code",
        "id": "J5bJtDQmcaWx",
        "colab": {}
      },
      "source": [
        "x_read = read[\"Intensity\"]\n",
        "y_read = read[\"Output\"]\n",
        "\n",
        "# Plot of Training Data \n",
        "plt.scatter(x_read, y_read) \n",
        "plt.xlabel('x') \n",
        "plt.xlabel('y') \n",
        "plt.title(\"Training Data\") \n",
        "plt.show() "
      ],
      "execution_count": 0,
      "outputs": []
    },
    {
      "cell_type": "code",
      "metadata": {
        "colab_type": "code",
        "id": "f2UXZAPWcaWd",
        "colab": {}
      },
      "source": [
        "x_normal = normal[\"Intensity\"]\n",
        "y_normal = normal[\"Output\"]\n",
        "\n",
        "# Plot of Training Data \n",
        "plt.scatter(x_normal, y_normal) \n",
        "plt.xlabel('x') \n",
        "plt.xlabel('y') \n",
        "plt.title(\"Training Data\") \n",
        "plt.show() "
      ],
      "execution_count": 0,
      "outputs": []
    },
    {
      "cell_type": "markdown",
      "metadata": {
        "id": "OZ2LzWEyx-nT",
        "colab_type": "text"
      },
      "source": [
        "### Training Data"
      ]
    },
    {
      "cell_type": "code",
      "metadata": {
        "id": "6_X6N8IDyCa1",
        "colab_type": "code",
        "colab": {}
      },
      "source": [
        "Weight_sleep,Bias_sleep =  Training(x_sleep,y_sleep,learning_rate = 0.0003,training_epochs = 10)"
      ],
      "execution_count": 0,
      "outputs": []
    },
    {
      "cell_type": "code",
      "metadata": {
        "id": "AM3IV7pvzcbm",
        "colab_type": "code",
        "colab": {}
      },
      "source": [
        "Weight_read,Bias_read =  Training(x_read,y_read,learning_rate = 0.003,training_epochs = 300)"
      ],
      "execution_count": 0,
      "outputs": []
    },
    {
      "cell_type": "code",
      "metadata": {
        "id": "_ycNteUPzdBQ",
        "colab_type": "code",
        "colab": {}
      },
      "source": [
        "Weight_normal,Bias_normal =  Training(x_normal,y_normal,learning_rate = 0.0053,training_epochs = 300)"
      ],
      "execution_count": 0,
      "outputs": []
    }
  ]
}