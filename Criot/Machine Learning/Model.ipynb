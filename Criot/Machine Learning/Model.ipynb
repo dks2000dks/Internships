{
  "nbformat": 4,
  "nbformat_minor": 0,
  "metadata": {
    "colab": {
      "name": "Model",
      "provenance": [],
      "collapsed_sections": [
        "-se1gGfOfBb9",
        "ktPx0qeytxUr"
      ]
    },
    "kernelspec": {
      "name": "python3",
      "display_name": "Python 3"
    }
  },
  "cells": [
    {
      "cell_type": "markdown",
      "metadata": {
        "id": "fZB3panNs4oW",
        "colab_type": "text"
      },
      "source": [
        "# Classifier"
      ]
    },
    {
      "cell_type": "markdown",
      "metadata": {
        "id": "-se1gGfOfBb9",
        "colab_type": "text"
      },
      "source": [
        "### Importing Libraries"
      ]
    },
    {
      "cell_type": "code",
      "metadata": {
        "id": "x54r-YgEe55U",
        "colab_type": "code",
        "outputId": "43c9fb7c-207b-4900-995d-c6340240f25d",
        "colab": {
          "base_uri": "https://localhost:8080/",
          "height": 0
        }
      },
      "source": [
        "import numpy as np\n",
        "from numpy import loadtxt\n",
        "from keras.models import Sequential\n",
        "from keras.layers import Dense\n",
        "import pandas as pd"
      ],
      "execution_count": 1,
      "outputs": [
        {
          "output_type": "stream",
          "text": [
            "Using TensorFlow backend.\n"
          ],
          "name": "stderr"
        }
      ]
    },
    {
      "cell_type": "markdown",
      "metadata": {
        "id": "s_HvUMKzfH8H",
        "colab_type": "text"
      },
      "source": [
        "### Importing Data\n",
        "\n"
      ]
    },
    {
      "cell_type": "code",
      "metadata": {
        "id": "WsXnkNK0f2VW",
        "colab_type": "code",
        "outputId": "74b49a37-c2cf-46d9-eabf-d7263c8ec5d3",
        "colab": {
          "resources": {
            "http://localhost:8080/nbextensions/google.colab/files.js": {
              "data": "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",
              "ok": true,
              "headers": [
                [
                  "content-type",
                  "application/javascript"
                ]
              ],
              "status": 200,
              "status_text": ""
            }
          },
          "base_uri": "https://localhost:8080/",
          "height": 248
        }
      },
      "source": [
        "from google.colab import files\n",
        "\n",
        "uploaded = files.upload()\n",
        "\n",
        "for fn in uploaded.keys():\n",
        "  print('User uploaded file \"{name}\" with length {length} bytes'.format(\n",
        "      name=fn, length=len(uploaded[fn])))"
      ],
      "execution_count": 2,
      "outputs": [
        {
          "output_type": "display_data",
          "data": {
            "text/html": [
              "\n",
              "     <input type=\"file\" id=\"files-929ba34e-4f74-4967-9934-cba2be58cb6b\" name=\"files[]\" multiple disabled />\n",
              "     <output id=\"result-929ba34e-4f74-4967-9934-cba2be58cb6b\">\n",
              "      Upload widget is only available when the cell has been executed in the\n",
              "      current browser session. Please rerun this cell to enable.\n",
              "      </output>\n",
              "      <script src=\"/nbextensions/google.colab/files.js\"></script> "
            ],
            "text/plain": [
              "<IPython.core.display.HTML object>"
            ]
          },
          "metadata": {
            "tags": []
          }
        },
        {
          "output_type": "stream",
          "text": [
            "Saving Classifier.csv to Classifier.csv\n",
            "Saving Normal.csv to Normal.csv\n",
            "Saving Read.csv to Read.csv\n",
            "Saving Sleep.csv to Sleep.csv\n",
            "User uploaded file \"Classifier.csv\" with length 503636 bytes\n",
            "User uploaded file \"Normal.csv\" with length 565 bytes\n",
            "User uploaded file \"Read.csv\" with length 578 bytes\n",
            "User uploaded file \"Sleep.csv\" with length 455 bytes\n"
          ],
          "name": "stdout"
        }
      ]
    },
    {
      "cell_type": "code",
      "metadata": {
        "id": "cZWzSeJQsDbv",
        "colab_type": "code",
        "colab": {}
      },
      "source": [
        "df = pd.read_csv('Classifier.csv',sep=',')"
      ],
      "execution_count": 0,
      "outputs": []
    },
    {
      "cell_type": "markdown",
      "metadata": {
        "id": "ymOuaXrix49z",
        "colab_type": "text"
      },
      "source": [
        "### Maniplating and Pre-Processing Data"
      ]
    },
    {
      "cell_type": "markdown",
      "metadata": {
        "id": "DhBQ2X2l9sH6",
        "colab_type": "text"
      },
      "source": [
        "Performing One-Hot Encoding"
      ]
    },
    {
      "cell_type": "code",
      "metadata": {
        "id": "Dep0aDiIyF-r",
        "colab_type": "code",
        "outputId": "d9eb4fb4-70fa-4504-9f79-a2a7df8ac162",
        "colab": {
          "base_uri": "https://localhost:8080/",
          "height": 212
        }
      },
      "source": [
        "df['ISleep'] = (df[\"Mode\"] == 0)*1.0\n",
        "df['IRead'] = (df[\"Mode\"] == 1)*1.0\n",
        "df['INormal'] = (df[\"Mode\"] == 2)*1.0\n",
        "\n",
        "df['OSleep'] = (df[\"Output\"] == 0)*1.0\n",
        "df['ORead'] = (df[\"Output\"] == 1)*1.0\n",
        "df['ONormal'] = (df[\"Output\"] == 2)*1.0\n",
        "df['Deactivate'] = (df[\"Output\"] == -1)*1.0\n",
        "\n",
        "print (df.describe())"
      ],
      "execution_count": 4,
      "outputs": [
        {
          "output_type": "stream",
          "text": [
            "               0-1          1-2  ...      ONormal   Deactivate\n",
            "count  9072.000000  9072.000000  ...  9072.000000  9072.000000\n",
            "mean      0.041667     0.041667  ...     0.076389     0.500000\n",
            "std       0.199837     0.199837  ...     0.265634     0.500028\n",
            "min       0.000000     0.000000  ...     0.000000     0.000000\n",
            "25%       0.000000     0.000000  ...     0.000000     0.000000\n",
            "50%       0.000000     0.000000  ...     0.000000     0.500000\n",
            "75%       0.000000     0.000000  ...     0.000000     1.000000\n",
            "max       1.000000     1.000000  ...     1.000000     1.000000\n",
            "\n",
            "[8 rows x 34 columns]\n"
          ],
          "name": "stdout"
        }
      ]
    },
    {
      "cell_type": "markdown",
      "metadata": {
        "id": "fw-FvQkt9xM3",
        "colab_type": "text"
      },
      "source": [
        "Setting Parameters"
      ]
    },
    {
      "cell_type": "code",
      "metadata": {
        "id": "f2Trc9YOrCgK",
        "colab_type": "code",
        "colab": {}
      },
      "source": [
        "X = df[[\"0-1\",\"1-2\",\"2-3\",\"3-4\",\"4-5\",\"5-6\",\"6-7\",\"7-8\",\"8-9\",\"9-10\",\"10-11\",\"11-12\",\"12-13\",\"13-14\",\"14-15\",\"15-16\",\"16-17\",\"17-18\",\"18-19\",\"19-20\",\"20-21\",\"21-22\",\"22-23\",\"23-24\",\"PIR\",\"IRead\",\"ISleep\",\"INormal\"]]\n",
        "y = df[[\"OSleep\", \"ORead\",\"ONormal\",\"Deactivate\"]]"
      ],
      "execution_count": 0,
      "outputs": []
    },
    {
      "cell_type": "markdown",
      "metadata": {
        "id": "M8rSMmcLw82w",
        "colab_type": "text"
      },
      "source": [
        "### Creating and Evaluating Model"
      ]
    },
    {
      "cell_type": "code",
      "metadata": {
        "id": "C64-gJOUwiqM",
        "colab_type": "code",
        "colab": {
          "base_uri": "https://localhost:8080/",
          "height": 123
        },
        "outputId": "6e2c3047-df40-4cc5-b7f6-18a2b5495b67"
      },
      "source": [
        "model = Sequential()\n",
        "model.add(Dense(12, input_dim=28, activation='relu'))\n",
        "model.add(Dense(8, activation='relu'))\n",
        "model.add(Dense(4, activation='softmax'))\n",
        "model.add(Dense(4, activation = 'sigmoid'))"
      ],
      "execution_count": 6,
      "outputs": [
        {
          "output_type": "stream",
          "text": [
            "WARNING:tensorflow:From /usr/local/lib/python3.6/dist-packages/keras/backend/tensorflow_backend.py:66: The name tf.get_default_graph is deprecated. Please use tf.compat.v1.get_default_graph instead.\n",
            "\n",
            "WARNING:tensorflow:From /usr/local/lib/python3.6/dist-packages/keras/backend/tensorflow_backend.py:541: The name tf.placeholder is deprecated. Please use tf.compat.v1.placeholder instead.\n",
            "\n",
            "WARNING:tensorflow:From /usr/local/lib/python3.6/dist-packages/keras/backend/tensorflow_backend.py:4432: The name tf.random_uniform is deprecated. Please use tf.random.uniform instead.\n",
            "\n"
          ],
          "name": "stdout"
        }
      ]
    },
    {
      "cell_type": "code",
      "metadata": {
        "id": "zvFDcri5xGg7",
        "colab_type": "code",
        "outputId": "dd24703b-61d1-4278-bf65-3abbce4dc30b",
        "colab": {
          "base_uri": "https://localhost:8080/",
          "height": 301
        }
      },
      "source": [
        "model.summary()"
      ],
      "execution_count": 7,
      "outputs": [
        {
          "output_type": "stream",
          "text": [
            "Model: \"sequential_1\"\n",
            "_________________________________________________________________\n",
            "Layer (type)                 Output Shape              Param #   \n",
            "=================================================================\n",
            "dense_1 (Dense)              (None, 12)                348       \n",
            "_________________________________________________________________\n",
            "dense_2 (Dense)              (None, 8)                 104       \n",
            "_________________________________________________________________\n",
            "dense_3 (Dense)              (None, 4)                 36        \n",
            "_________________________________________________________________\n",
            "dense_4 (Dense)              (None, 4)                 20        \n",
            "=================================================================\n",
            "Total params: 508\n",
            "Trainable params: 508\n",
            "Non-trainable params: 0\n",
            "_________________________________________________________________\n"
          ],
          "name": "stdout"
        }
      ]
    },
    {
      "cell_type": "code",
      "metadata": {
        "id": "zbrhBNktxIMi",
        "colab_type": "code",
        "colab": {
          "base_uri": "https://localhost:8080/",
          "height": 141
        },
        "outputId": "1ee937a4-9a6d-40e8-ce70-eb5e28012e15"
      },
      "source": [
        "model.compile(loss='binary_crossentropy', optimizer='adam', metrics=['accuracy'])"
      ],
      "execution_count": 8,
      "outputs": [
        {
          "output_type": "stream",
          "text": [
            "WARNING:tensorflow:From /usr/local/lib/python3.6/dist-packages/keras/optimizers.py:793: The name tf.train.Optimizer is deprecated. Please use tf.compat.v1.train.Optimizer instead.\n",
            "\n",
            "WARNING:tensorflow:From /usr/local/lib/python3.6/dist-packages/keras/backend/tensorflow_backend.py:3657: The name tf.log is deprecated. Please use tf.math.log instead.\n",
            "\n",
            "WARNING:tensorflow:From /usr/local/lib/python3.6/dist-packages/tensorflow_core/python/ops/nn_impl.py:183: where (from tensorflow.python.ops.array_ops) is deprecated and will be removed in a future version.\n",
            "Instructions for updating:\n",
            "Use tf.where in 2.0, which has the same broadcast rule as np.where\n"
          ],
          "name": "stdout"
        }
      ]
    },
    {
      "cell_type": "markdown",
      "metadata": {
        "id": "O4b5l5VBxPKN",
        "colab_type": "text"
      },
      "source": [
        "### Training Model"
      ]
    },
    {
      "cell_type": "code",
      "metadata": {
        "id": "zOLjsPwtxOjc",
        "colab_type": "code",
        "outputId": "18e28726-c88e-4544-d74a-d9daa04f838a",
        "colab": {
          "base_uri": "https://localhost:8080/",
          "height": 1000
        }
      },
      "source": [
        "model.fit(X, y, epochs=20, batch_size=10)\n",
        "\n",
        "Array, accuracy = model.evaluate(X, y)\n",
        "\n",
        "\n",
        "print('Accuracy: %.2f' % (accuracy*100))"
      ],
      "execution_count": 9,
      "outputs": [
        {
          "output_type": "stream",
          "text": [
            "WARNING:tensorflow:From /usr/local/lib/python3.6/dist-packages/keras/backend/tensorflow_backend.py:1033: The name tf.assign_add is deprecated. Please use tf.compat.v1.assign_add instead.\n",
            "\n",
            "WARNING:tensorflow:From /usr/local/lib/python3.6/dist-packages/keras/backend/tensorflow_backend.py:1020: The name tf.assign is deprecated. Please use tf.compat.v1.assign instead.\n",
            "\n",
            "WARNING:tensorflow:From /usr/local/lib/python3.6/dist-packages/keras/backend/tensorflow_backend.py:3005: The name tf.Session is deprecated. Please use tf.compat.v1.Session instead.\n",
            "\n",
            "Epoch 1/20\n",
            "WARNING:tensorflow:From /usr/local/lib/python3.6/dist-packages/keras/backend/tensorflow_backend.py:190: The name tf.get_default_session is deprecated. Please use tf.compat.v1.get_default_session instead.\n",
            "\n",
            "WARNING:tensorflow:From /usr/local/lib/python3.6/dist-packages/keras/backend/tensorflow_backend.py:197: The name tf.ConfigProto is deprecated. Please use tf.compat.v1.ConfigProto instead.\n",
            "\n",
            "WARNING:tensorflow:From /usr/local/lib/python3.6/dist-packages/keras/backend/tensorflow_backend.py:207: The name tf.global_variables is deprecated. Please use tf.compat.v1.global_variables instead.\n",
            "\n",
            "WARNING:tensorflow:From /usr/local/lib/python3.6/dist-packages/keras/backend/tensorflow_backend.py:216: The name tf.is_variable_initialized is deprecated. Please use tf.compat.v1.is_variable_initialized instead.\n",
            "\n",
            "WARNING:tensorflow:From /usr/local/lib/python3.6/dist-packages/keras/backend/tensorflow_backend.py:223: The name tf.variables_initializer is deprecated. Please use tf.compat.v1.variables_initializer instead.\n",
            "\n",
            "9072/9072 [==============================] - 2s 256us/step - loss: 0.5021 - acc: 0.8044\n",
            "Epoch 2/20\n",
            "9072/9072 [==============================] - 1s 160us/step - loss: 0.3669 - acc: 0.8830\n",
            "Epoch 3/20\n",
            "9072/9072 [==============================] - 1s 162us/step - loss: 0.3261 - acc: 0.8870\n",
            "Epoch 4/20\n",
            "9072/9072 [==============================] - 1s 155us/step - loss: 0.2222 - acc: 0.9649\n",
            "Epoch 5/20\n",
            "9072/9072 [==============================] - 1s 155us/step - loss: 0.1436 - acc: 0.9808\n",
            "Epoch 6/20\n",
            "9072/9072 [==============================] - 1s 161us/step - loss: 0.1145 - acc: 0.9806\n",
            "Epoch 7/20\n",
            "9072/9072 [==============================] - 1s 161us/step - loss: 0.0973 - acc: 0.9808\n",
            "Epoch 8/20\n",
            "9072/9072 [==============================] - 1s 161us/step - loss: 0.0860 - acc: 0.9806\n",
            "Epoch 9/20\n",
            "9072/9072 [==============================] - 2s 169us/step - loss: 0.0781 - acc: 0.9808\n",
            "Epoch 10/20\n",
            "9072/9072 [==============================] - 1s 151us/step - loss: 0.0721 - acc: 0.9809\n",
            "Epoch 11/20\n",
            "9072/9072 [==============================] - 1s 157us/step - loss: 0.0680 - acc: 0.9808\n",
            "Epoch 12/20\n",
            "9072/9072 [==============================] - 1s 155us/step - loss: 0.0644 - acc: 0.9808\n",
            "Epoch 13/20\n",
            "9072/9072 [==============================] - 1s 155us/step - loss: 0.0604 - acc: 0.9809\n",
            "Epoch 14/20\n",
            "9072/9072 [==============================] - 1s 154us/step - loss: 0.0568 - acc: 0.9809\n",
            "Epoch 15/20\n",
            "9072/9072 [==============================] - 1s 154us/step - loss: 0.0526 - acc: 0.9806\n",
            "Epoch 16/20\n",
            "9072/9072 [==============================] - 1s 159us/step - loss: 0.0477 - acc: 0.9809\n",
            "Epoch 17/20\n",
            "9072/9072 [==============================] - 2s 167us/step - loss: 0.0440 - acc: 0.9808\n",
            "Epoch 18/20\n",
            "9072/9072 [==============================] - 2s 168us/step - loss: 0.0395 - acc: 0.9809\n",
            "Epoch 19/20\n",
            "9072/9072 [==============================] - 2s 166us/step - loss: 0.0355 - acc: 0.9809\n",
            "Epoch 20/20\n",
            "9072/9072 [==============================] - 1s 159us/step - loss: 0.0321 - acc: 0.9833\n",
            "9072/9072 [==============================] - 0s 25us/step\n",
            "Accuracy: 99.48\n"
          ],
          "name": "stdout"
        }
      ]
    },
    {
      "cell_type": "markdown",
      "metadata": {
        "id": "WOJjOCuw96dV",
        "colab_type": "text"
      },
      "source": [
        "### Predicting the Output"
      ]
    },
    {
      "cell_type": "code",
      "metadata": {
        "id": "dQ8pvmwK-A6R",
        "colab_type": "code",
        "outputId": "caf866a0-3e76-4f88-e48d-bfde0d3be3c3",
        "colab": {
          "base_uri": "https://localhost:8080/",
          "height": 52
        }
      },
      "source": [
        "Prediction = model.predict(X)\n",
        "\n",
        "\n",
        "Possible_Outputs = [\"Sleep\",\"Read\",\"Normal\",\"Dectivate\"]\n",
        "\n",
        "Predicted_class = np.argmax(Prediction,axis=-1)\n",
        "print (Predicted_class)\n",
        "print (Possible_Outputs[Predicted_class[9000]])"
      ],
      "execution_count": 20,
      "outputs": [
        {
          "output_type": "stream",
          "text": [
            "[0 0 0 ... 3 3 3]\n",
            "Dectivate\n"
          ],
          "name": "stdout"
        }
      ]
    },
    {
      "cell_type": "markdown",
      "metadata": {
        "id": "JOU2IkQYszFQ",
        "colab_type": "text"
      },
      "source": [
        "# Intensity Predictor\n"
      ]
    },
    {
      "cell_type": "markdown",
      "metadata": {
        "id": "tC_V6FCUumGF",
        "colab_type": "text"
      },
      "source": [
        "### Importing Libraries"
      ]
    },
    {
      "cell_type": "code",
      "metadata": {
        "id": "RlL7WET0uqDA",
        "colab_type": "code",
        "colab": {}
      },
      "source": [
        "from __future__ import print_function\n",
        "\n",
        "import math\n",
        "\n",
        "from IPython import display\n",
        "from matplotlib import cm\n",
        "from matplotlib import gridspec\n",
        "from matplotlib import pyplot as plt\n",
        "import numpy as np\n",
        "import pandas as pd\n",
        "from sklearn import metrics\n",
        "import tensorflow as tf\n",
        "from tensorflow.python.data import Dataset\n"
      ],
      "execution_count": 0,
      "outputs": []
    },
    {
      "cell_type": "markdown",
      "metadata": {
        "id": "hHS8qfqVtanb",
        "colab_type": "text"
      },
      "source": [
        "### Importing Data"
      ]
    },
    {
      "cell_type": "code",
      "metadata": {
        "id": "6i6dkOnhtDZn",
        "colab_type": "code",
        "colab": {}
      },
      "source": [
        "sleep = pd.read_csv('Sleep.csv',sep=',')\n",
        "read = pd.read_csv('Read.csv',sep=',')\n",
        "normal = pd.read_csv('Normal.csv',sep=',')"
      ],
      "execution_count": 0,
      "outputs": []
    },
    {
      "cell_type": "markdown",
      "metadata": {
        "id": "BJBfFU_LtedQ",
        "colab_type": "text"
      },
      "source": [
        "### Linear Regression"
      ]
    },
    {
      "cell_type": "code",
      "metadata": {
        "id": "BCyGPJIdtSP4",
        "colab_type": "code",
        "colab": {}
      },
      "source": [
        "\n",
        "def Training(x,y,training_epochs,learning_rate):\n",
        "\t\n",
        "\tb = float(y.max())\n",
        "\tW = float((-1*y.max())/x.max())\n",
        "\t\n",
        "\tW = tf.Variable(W, name = \"W\") \n",
        "\tb = tf.Variable(b, name = \"b\") \n",
        "\t\n",
        "\tX = tf.placeholder(\"float\")\n",
        "\tY = tf.placeholder(\"float\")\n",
        "\n",
        "\tn = len(x)\n",
        "\t# Hypothesis \n",
        "\ty_pred = tf.add(tf.multiply(X, W), b)\n",
        "\t\n",
        "\t# Mean Squared Error Cost Function \n",
        "\tcost = tf.reduce_sum(tf.pow(y_pred-Y, 2)) / (2 * n) \n",
        "\n",
        "\t# Gradient Descent Optimizer\n",
        "\toptimizer = tf.train.GradientDescentOptimizer(learning_rate).minimize(cost) \n",
        "\n",
        "\t# Global Variables Initializer \n",
        "\tinit = tf.global_variables_initializer() \n",
        "\n",
        "\t# Starting the Tensorflow Session \n",
        "\twith tf.Session() as sess: \n",
        "\t\t# Initializing the Variables \n",
        "\t\tsess.run(init) \n",
        "\t\n",
        "\t\t# Iterating through all the epochs \n",
        "\t\tfor epoch in range(training_epochs): \n",
        "\t\t\t\n",
        "\t\t\t# Feeding each data point into the optimizer using Feed Dictionary \n",
        "\t\t\tfor (_x, _y) in zip(x, y): \n",
        "\t\t\t\tsess.run(optimizer, feed_dict = {X : _x, Y : _y}) \n",
        "\t\t\n",
        "\t\t\t# Displaying the result after every 50 epochs \n",
        "\t\t\tif (epoch + 1) % 50 == 0: \n",
        "\t\t\t\t# Calculating the cost a every epoch \n",
        "\t\t\t\tc = sess.run(cost, feed_dict = {X : x, Y : y}) \n",
        "\t\t\t\tprint(\"Epoch\", (epoch + 1), \": cost =\", c, \"W =\", sess.run(W), \"b =\", sess.run(b)) \n",
        "\t\n",
        "\t\t# Storing necessary values to be used outside the Session \n",
        "\t\ttraining_cost = sess.run(cost, feed_dict ={X: x, Y: y}) \n",
        "\t\tweight = sess.run(W) \n",
        "\t\tbias = sess.run(b) \n",
        "\n",
        "\t# Calculating the predictions \n",
        "\tpredictions = weight * x + bias \n",
        "\tprint(\"Training cost =\", training_cost, \"Weight =\", weight, \"bias =\", bias, '\\n') \n",
        "\n",
        "\t# Plotting the Results \n",
        "\tplt.plot(x, y, 'ro', label ='Original data') \n",
        "\tplt.plot(x, predictions, label ='Fitted line') \n",
        "\tplt.title('Linear Regression Result') \n",
        "\tplt.legend() \n",
        "\tplt.show()\n",
        "\n",
        "\treturn weight,bias\n",
        "\t"
      ],
      "execution_count": 0,
      "outputs": []
    },
    {
      "cell_type": "markdown",
      "metadata": {
        "id": "ktPx0qeytxUr",
        "colab_type": "text"
      },
      "source": [
        "### Visualising Data"
      ]
    },
    {
      "cell_type": "code",
      "metadata": {
        "id": "eSXBBz3Bt9pp",
        "colab_type": "code",
        "outputId": "3d073b96-3f34-473c-ed12-0c476853d588",
        "colab": {
          "base_uri": "https://localhost:8080/",
          "height": 0
        }
      },
      "source": [
        "x_sleep = sleep[\"Intensity\"]\n",
        "y_sleep = sleep[\"Output\"]\n",
        "\n",
        "# Plot of Training Data \n",
        "plt.scatter(x_sleep, y_sleep) \n",
        "plt.xlabel('x') \n",
        "plt.xlabel('y') \n",
        "plt.title(\"Training Data\") \n",
        "plt.show() "
      ],
      "execution_count": 14,
      "outputs": [
        {
          "output_type": "display_data",
          "data": {
            "image/png": "[encoded data removed]",
            "text/plain": [
              "<Figure size 432x288 with 1 Axes>"
            ]
          },
          "metadata": {
            "tags": []
          }
        }
      ]
    },
    {
      "cell_type": "code",
      "metadata": {
        "id": "eYnt7ft3vCkK",
        "colab_type": "code",
        "outputId": "d40fa5e5-625b-43ba-9d8f-9136096ecbd8",
        "colab": {
          "base_uri": "https://localhost:8080/",
          "height": 0
        }
      },
      "source": [
        "x_read = read[\"Intensity\"]\n",
        "y_read = read[\"Output\"]\n",
        "\n",
        "# Plot of Training Data \n",
        "plt.scatter(x_read, y_read) \n",
        "plt.xlabel('x') \n",
        "plt.xlabel('y') \n",
        "plt.title(\"Training Data\") \n",
        "plt.show() "
      ],
      "execution_count": 15,
      "outputs": [
        {
          "output_type": "display_data",
          "data": {
            "image/png": "[encoded data removed]",
            "text/plain": [
              "<Figure size 432x288 with 1 Axes>"
            ]
          },
          "metadata": {
            "tags": []
          }
        }
      ]
    },
    {
      "cell_type": "code",
      "metadata": {
        "id": "5xzXh2izvOS4",
        "colab_type": "code",
        "outputId": "0fb1473f-619d-433d-8ef1-13a5049c4e7e",
        "colab": {
          "base_uri": "https://localhost:8080/",
          "height": 0
        }
      },
      "source": [
        "x_normal = normal[\"Intensity\"]\n",
        "y_normal = normal[\"Output\"]\n",
        "\n",
        "# Plot of Training Data \n",
        "plt.scatter(x_normal, y_normal) \n",
        "plt.xlabel('x') \n",
        "plt.xlabel('y') \n",
        "plt.title(\"Training Data\") \n",
        "plt.show() "
      ],
      "execution_count": 16,
      "outputs": [
        {
          "output_type": "display_data",
          "data": {
            "image/png": "[encoded data removed]",
            "text/plain": [
              "<Figure size 432x288 with 1 Axes>"
            ]
          },
          "metadata": {
            "tags": []
          }
        }
      ]
    },
    {
      "cell_type": "markdown",
      "metadata": {
        "id": "OZ2LzWEyx-nT",
        "colab_type": "text"
      },
      "source": [
        "### Training Data"
      ]
    },
    {
      "cell_type": "code",
      "metadata": {
        "id": "6_X6N8IDyCa1",
        "colab_type": "code",
        "outputId": "a017d039-6b0e-4e6b-e074-74d130cfb002",
        "colab": {
          "base_uri": "https://localhost:8080/",
          "height": 316
        }
      },
      "source": [
        "Weight_sleep,Bias_sleep =  Training(x_sleep,y_sleep,learning_rate = 0.0003,training_epochs = 10)"
      ],
      "execution_count": 17,
      "outputs": [
        {
          "output_type": "stream",
          "text": [
            "Training cost = 414.2367 Weight = -0.10848554 bias = 74.988174 \n",
            "\n"
          ],
          "name": "stdout"
        },
        {
          "output_type": "display_data",
          "data": {
            "image/png": "[encoded data removed]",
            "text/plain": [
              "<Figure size 432x288 with 1 Axes>"
            ]
          },
          "metadata": {
            "tags": []
          }
        }
      ]
    },
    {
      "cell_type": "code",
      "metadata": {
        "id": "AM3IV7pvzcbm",
        "colab_type": "code",
        "outputId": "edfd224a-9660-48bd-e6fe-7d1857c3acf0",
        "colab": {
          "base_uri": "https://localhost:8080/",
          "height": 494
        }
      },
      "source": [
        "Weight_read,Bias_read =  Training(x_read,y_read,learning_rate = 0.0003,training_epochs = 500)"
      ],
      "execution_count": 18,
      "outputs": [
        {
          "output_type": "stream",
          "text": [
            "Epoch 50 : cost = 332.8919 W = -0.9087302 b = 902.01733\n",
            "Epoch 100 : cost = 332.8904 W = -0.90875155 b = 902.0326\n",
            "Epoch 150 : cost = 332.87918 W = -0.90877223 b = 902.0466\n",
            "Epoch 200 : cost = 332.881 W = -0.908789 b = 902.0588\n",
            "Epoch 250 : cost = 332.87753 W = -0.9088063 b = 902.071\n",
            "Epoch 300 : cost = 332.85114 W = -0.9088263 b = 902.0832\n",
            "Epoch 350 : cost = 332.87396 W = -0.90884066 b = 902.0954\n",
            "Epoch 400 : cost = 332.84192 W = -0.9088613 b = 902.1076\n",
            "Epoch 450 : cost = 332.85318 W = -0.90887696 b = 902.1198\n",
            "Epoch 500 : cost = 332.85312 W = -0.90889394 b = 902.132\n",
            "Training cost = 332.85312 Weight = -0.90889394 bias = 902.132 \n",
            "\n"
          ],
          "name": "stdout"
        },
        {
          "output_type": "display_data",
          "data": {
            "image/png": "[encoded data removed]",
            "text/plain": [
              "<Figure size 432x288 with 1 Axes>"
            ]
          },
          "metadata": {
            "tags": []
          }
        }
      ]
    },
    {
      "cell_type": "code",
      "metadata": {
        "id": "_ycNteUPzdBQ",
        "colab_type": "code",
        "outputId": "95914834-0091-422b-9237-ab6510148f4b",
        "colab": {
          "base_uri": "https://localhost:8080/",
          "height": 494
        }
      },
      "source": [
        "Weight_normal,Bias_normal =  Training(x_normal,y_normal,learning_rate = 0.0003,training_epochs = 500)"
      ],
      "execution_count": 19,
      "outputs": [
        {
          "output_type": "stream",
          "text": [
            "Epoch 50 : cost = 2133.5425 W = -0.82538176 b = 699.9645\n",
            "Epoch 100 : cost = 2133.0056 W = -0.8253297 b = 699.92786\n",
            "Epoch 150 : cost = 2132.5195 W = -0.82527614 b = 699.89124\n",
            "Epoch 200 : cost = 2131.9946 W = -0.82522374 b = 699.8546\n",
            "Epoch 250 : cost = 2131.4473 W = -0.82517207 b = 699.818\n",
            "Epoch 300 : cost = 2130.9207 W = -0.82511973 b = 699.7814\n",
            "Epoch 350 : cost = 2130.362 W = -0.8250684 b = 699.74475\n",
            "Epoch 400 : cost = 2129.9658 W = -0.8250121 b = 699.7081\n",
            "Epoch 450 : cost = 2129.5127 W = -0.82495755 b = 699.6715\n",
            "Epoch 500 : cost = 2128.9624 W = -0.824906 b = 699.6349\n",
            "Training cost = 2128.9624 Weight = -0.824906 bias = 699.6349 \n",
            "\n"
          ],
          "name": "stdout"
        },
        {
          "output_type": "display_data",
          "data": {
            "image/png": "[encoded data removed]",
            "text/plain": [
              "<Figure size 432x288 with 1 Axes>"
            ]
          },
          "metadata": {
            "tags": []
          }
        }
      ]
    }
  ]
}