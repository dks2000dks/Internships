{
  "nbformat": 4,
  "nbformat_minor": 0,
  "metadata": {
    "colab": {
      "name": "Model",
      "provenance": [],
      "collapsed_sections": [
        "fZB3panNs4oW",
        "-se1gGfOfBb9",
        "s_HvUMKzfH8H",
        "ymOuaXrix49z",
        "M8rSMmcLw82w",
        "O4b5l5VBxPKN",
        "tC_V6FCUumGF",
        "hHS8qfqVtanb",
        "ktPx0qeytxUr"
      ]
    },
    "kernelspec": {
      "name": "python3",
      "display_name": "Python 3"
    },
    "accelerator": "GPU"
  },
  "cells": [
    {
      "cell_type": "markdown",
      "metadata": {
        "id": "fZB3panNs4oW",
        "colab_type": "text"
      },
      "source": [
        "# Classifier"
      ]
    },
    {
      "cell_type": "markdown",
      "metadata": {
        "id": "-se1gGfOfBb9",
        "colab_type": "text"
      },
      "source": [
        "### Importing Libraries"
      ]
    },
    {
      "cell_type": "code",
      "metadata": {
        "id": "x54r-YgEe55U",
        "colab_type": "code",
        "colab": {
          "base_uri": "https://localhost:8080/",
          "height": 34
        },
        "outputId": "6f21a947-46e5-4cac-da38-4bba733fb902"
      },
      "source": [
        "import numpy as np\n",
        "from numpy import loadtxt\n",
        "from keras.models import Sequential\n",
        "from keras.layers import Dense\n",
        "import pandas as pd\n",
        "import keras"
      ],
      "execution_count": 1,
      "outputs": [
        {
          "output_type": "stream",
          "text": [
            "Using TensorFlow backend.\n"
          ],
          "name": "stderr"
        }
      ]
    },
    {
      "cell_type": "markdown",
      "metadata": {
        "id": "s_HvUMKzfH8H",
        "colab_type": "text"
      },
      "source": [
        "### Importing Data\n",
        "\n"
      ]
    },
    {
      "cell_type": "code",
      "metadata": {
        "id": "WsXnkNK0f2VW",
        "colab_type": "code",
        "outputId": "ec18b126-a767-4adb-91bd-3a4b38c56102",
        "colab": {
          "resources": {
            "http://localhost:8080/nbextensions/google.colab/files.js": {
              "data": "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",
              "ok": true,
              "headers": [
                [
                  "content-type",
                  "application/javascript"
                ]
              ],
              "status": 200,
              "status_text": ""
            }
          },
          "base_uri": "https://localhost:8080/",
          "height": 248
        }
      },
      "source": [
        "from google.colab import files\n",
        "\n",
        "uploaded = files.upload()\n",
        "\n",
        "for fn in uploaded.keys():\n",
        "  print('User uploaded file \"{name}\" with length {length} bytes'.format(\n",
        "      name=fn, length=len(uploaded[fn])))"
      ],
      "execution_count": 2,
      "outputs": [
        {
          "output_type": "display_data",
          "data": {
            "text/html": [
              "\n",
              "     <input type=\"file\" id=\"files-e3e131e0-56ce-4f85-8dd5-09d3fd8b13a3\" name=\"files[]\" multiple disabled />\n",
              "     <output id=\"result-e3e131e0-56ce-4f85-8dd5-09d3fd8b13a3\">\n",
              "      Upload widget is only available when the cell has been executed in the\n",
              "      current browser session. Please rerun this cell to enable.\n",
              "      </output>\n",
              "      <script src=\"/nbextensions/google.colab/files.js\"></script> "
            ],
            "text/plain": [
              "<IPython.core.display.HTML object>"
            ]
          },
          "metadata": {
            "tags": []
          }
        },
        {
          "output_type": "stream",
          "text": [
            "Saving Classifier.csv to Classifier.csv\n",
            "Saving Normal.csv to Normal.csv\n",
            "Saving Read.csv to Read.csv\n",
            "Saving Sleep.csv to Sleep.csv\n",
            "User uploaded file \"Classifier.csv\" with length 503636 bytes\n",
            "User uploaded file \"Normal.csv\" with length 565 bytes\n",
            "User uploaded file \"Read.csv\" with length 578 bytes\n",
            "User uploaded file \"Sleep.csv\" with length 455 bytes\n"
          ],
          "name": "stdout"
        }
      ]
    },
    {
      "cell_type": "code",
      "metadata": {
        "id": "cZWzSeJQsDbv",
        "colab_type": "code",
        "colab": {}
      },
      "source": [
        "df = pd.read_csv('Classifier.csv',sep=',')"
      ],
      "execution_count": 0,
      "outputs": []
    },
    {
      "cell_type": "markdown",
      "metadata": {
        "id": "ymOuaXrix49z",
        "colab_type": "text"
      },
      "source": [
        "### Maniplating and Pre-Processing Data"
      ]
    },
    {
      "cell_type": "markdown",
      "metadata": {
        "id": "DhBQ2X2l9sH6",
        "colab_type": "text"
      },
      "source": [
        "Performing One-Hot Encoding"
      ]
    },
    {
      "cell_type": "code",
      "metadata": {
        "id": "Dep0aDiIyF-r",
        "colab_type": "code",
        "outputId": "4cd7b7e2-9abc-4f62-8134-e1caf9eb2587",
        "colab": {
          "base_uri": "https://localhost:8080/",
          "height": 212
        }
      },
      "source": [
        "df['ISleep'] = (df[\"Mode\"] == 0)*1.0\n",
        "df['IRead'] = (df[\"Mode\"] == 1)*1.0\n",
        "df['INormal'] = (df[\"Mode\"] == 2)*1.0\n",
        "\n",
        "df['OSleep'] = (df[\"Output\"] == 0)*1.0\n",
        "df['ORead'] = (df[\"Output\"] == 1)*1.0\n",
        "df['ONormal'] = (df[\"Output\"] == 2)*1.0\n",
        "df['Deactivate'] = (df[\"Output\"] == -1)*1.0\n",
        "\n",
        "print (df.describe())"
      ],
      "execution_count": 4,
      "outputs": [
        {
          "output_type": "stream",
          "text": [
            "               0-1          1-2  ...      ONormal   Deactivate\n",
            "count  9072.000000  9072.000000  ...  9072.000000  9072.000000\n",
            "mean      0.041667     0.041667  ...     0.076389     0.500000\n",
            "std       0.199837     0.199837  ...     0.265634     0.500028\n",
            "min       0.000000     0.000000  ...     0.000000     0.000000\n",
            "25%       0.000000     0.000000  ...     0.000000     0.000000\n",
            "50%       0.000000     0.000000  ...     0.000000     0.500000\n",
            "75%       0.000000     0.000000  ...     0.000000     1.000000\n",
            "max       1.000000     1.000000  ...     1.000000     1.000000\n",
            "\n",
            "[8 rows x 34 columns]\n"
          ],
          "name": "stdout"
        }
      ]
    },
    {
      "cell_type": "markdown",
      "metadata": {
        "id": "fw-FvQkt9xM3",
        "colab_type": "text"
      },
      "source": [
        "Setting Parameters"
      ]
    },
    {
      "cell_type": "code",
      "metadata": {
        "id": "f2Trc9YOrCgK",
        "colab_type": "code",
        "colab": {}
      },
      "source": [
        "X = df[[\"0-1\",\"1-2\",\"2-3\",\"3-4\",\"4-5\",\"5-6\",\"6-7\",\"7-8\",\"8-9\",\"9-10\",\"10-11\",\"11-12\",\"12-13\",\"13-14\",\"14-15\",\"15-16\",\"16-17\",\"17-18\",\"18-19\",\"19-20\",\"20-21\",\"21-22\",\"22-23\",\"23-24\",\"PIR\",\"IRead\",\"ISleep\",\"INormal\"]]\n",
        "y = df[[\"OSleep\", \"ORead\",\"ONormal\",\"Deactivate\"]]"
      ],
      "execution_count": 0,
      "outputs": []
    },
    {
      "cell_type": "markdown",
      "metadata": {
        "id": "M8rSMmcLw82w",
        "colab_type": "text"
      },
      "source": [
        "### Creating and Evaluating Model"
      ]
    },
    {
      "cell_type": "code",
      "metadata": {
        "id": "C64-gJOUwiqM",
        "colab_type": "code",
        "colab": {}
      },
      "source": [
        "keras.backend.clear_session()\n",
        "model = Sequential()\n",
        "model.add(Dense(20, input_dim=28, activation='relu'))\n",
        "model.add(Dense(12, activation='relu'))\n",
        "model.add(Dense(4, activation='softmax'))"
      ],
      "execution_count": 0,
      "outputs": []
    },
    {
      "cell_type": "code",
      "metadata": {
        "id": "zvFDcri5xGg7",
        "colab_type": "code",
        "outputId": "8c7a6f3d-3d3c-4597-cd84-e140f01f76bc",
        "colab": {
          "base_uri": "https://localhost:8080/",
          "height": 265
        }
      },
      "source": [
        "model.summary()"
      ],
      "execution_count": 55,
      "outputs": [
        {
          "output_type": "stream",
          "text": [
            "Model: \"sequential_1\"\n",
            "_________________________________________________________________\n",
            "Layer (type)                 Output Shape              Param #   \n",
            "=================================================================\n",
            "dense_1 (Dense)              (None, 20)                580       \n",
            "_________________________________________________________________\n",
            "dense_2 (Dense)              (None, 12)                252       \n",
            "_________________________________________________________________\n",
            "dense_3 (Dense)              (None, 4)                 52        \n",
            "=================================================================\n",
            "Total params: 884\n",
            "Trainable params: 884\n",
            "Non-trainable params: 0\n",
            "_________________________________________________________________\n"
          ],
          "name": "stdout"
        }
      ]
    },
    {
      "cell_type": "code",
      "metadata": {
        "id": "zbrhBNktxIMi",
        "colab_type": "code",
        "colab": {}
      },
      "source": [
        "model.compile(loss='categorical_crossentropy', optimizer='adam', metrics=['accuracy'])"
      ],
      "execution_count": 0,
      "outputs": []
    },
    {
      "cell_type": "markdown",
      "metadata": {
        "id": "O4b5l5VBxPKN",
        "colab_type": "text"
      },
      "source": [
        "### Training Model"
      ]
    },
    {
      "cell_type": "code",
      "metadata": {
        "id": "zOLjsPwtxOjc",
        "colab_type": "code",
        "colab": {
          "base_uri": "https://localhost:8080/",
          "height": 763
        },
        "outputId": "2156de26-ca66-457d-adf3-f94f9cefd5fc"
      },
      "source": [
        "model.fit(X, y, epochs=20, batch_size=250)\n",
        "Array, accuracy = model.evaluate(X, y)\n",
        "\n",
        "print('Accuracy: %.2f' % (accuracy*100))"
      ],
      "execution_count": 57,
      "outputs": [
        {
          "output_type": "stream",
          "text": [
            "Epoch 1/20\n",
            "9072/9072 [==============================] - 0s 45us/step - loss: 1.3076 - acc: 0.4182\n",
            "Epoch 2/20\n",
            "9072/9072 [==============================] - 0s 19us/step - loss: 1.1387 - acc: 0.6125\n",
            "Epoch 3/20\n",
            "9072/9072 [==============================] - 0s 20us/step - loss: 0.9185 - acc: 0.6788\n",
            "Epoch 4/20\n",
            "9072/9072 [==============================] - 0s 21us/step - loss: 0.6956 - acc: 0.7149\n",
            "Epoch 5/20\n",
            "9072/9072 [==============================] - 0s 19us/step - loss: 0.5312 - acc: 0.7264\n",
            "Epoch 6/20\n",
            "9072/9072 [==============================] - 0s 20us/step - loss: 0.4302 - acc: 0.7869\n",
            "Epoch 7/20\n",
            "9072/9072 [==============================] - 0s 21us/step - loss: 0.3494 - acc: 0.9124\n",
            "Epoch 8/20\n",
            "9072/9072 [==============================] - 0s 22us/step - loss: 0.2642 - acc: 0.9807\n",
            "Epoch 9/20\n",
            "9072/9072 [==============================] - 0s 20us/step - loss: 0.1801 - acc: 0.9961\n",
            "Epoch 10/20\n",
            "9072/9072 [==============================] - 0s 21us/step - loss: 0.1154 - acc: 1.0000\n",
            "Epoch 11/20\n",
            "9072/9072 [==============================] - 0s 22us/step - loss: 0.0744 - acc: 1.0000\n",
            "Epoch 12/20\n",
            "9072/9072 [==============================] - 0s 21us/step - loss: 0.0500 - acc: 1.0000\n",
            "Epoch 13/20\n",
            "9072/9072 [==============================] - 0s 22us/step - loss: 0.0352 - acc: 1.0000\n",
            "Epoch 14/20\n",
            "9072/9072 [==============================] - 0s 21us/step - loss: 0.0259 - acc: 1.0000\n",
            "Epoch 15/20\n",
            "9072/9072 [==============================] - 0s 22us/step - loss: 0.0198 - acc: 1.0000\n",
            "Epoch 16/20\n",
            "9072/9072 [==============================] - 0s 20us/step - loss: 0.0156 - acc: 1.0000\n",
            "Epoch 17/20\n",
            "9072/9072 [==============================] - 0s 19us/step - loss: 0.0126 - acc: 1.0000\n",
            "Epoch 18/20\n",
            "9072/9072 [==============================] - 0s 21us/step - loss: 0.0104 - acc: 1.0000\n",
            "Epoch 19/20\n",
            "9072/9072 [==============================] - 0s 23us/step - loss: 0.0087 - acc: 1.0000\n",
            "Epoch 20/20\n",
            "9072/9072 [==============================] - 0s 19us/step - loss: 0.0073 - acc: 1.0000\n",
            "9072/9072 [==============================] - 0s 53us/step\n",
            "Accuracy: 100.00\n"
          ],
          "name": "stdout"
        }
      ]
    },
    {
      "cell_type": "markdown",
      "metadata": {
        "id": "WOJjOCuw96dV",
        "colab_type": "text"
      },
      "source": [
        "### Predicting the Output"
      ]
    },
    {
      "cell_type": "code",
      "metadata": {
        "id": "dQ8pvmwK-A6R",
        "colab_type": "code",
        "colab": {}
      },
      "source": [
        "Prediction = model.predict(X)\n",
        "\n",
        "\n",
        "Possible_Outputs = [\"Sleep\",\"Read\",\"Normal\",\"Deactivate\"]\n",
        "\n",
        "Predicted_class = np.argmax(Prediction,axis=-1)\n",
        "print (Predicted_class)\n",
        "print (Possible_Outputs[Predicted_class[9000]])"
      ],
      "execution_count": 0,
      "outputs": []
    },
    {
      "cell_type": "markdown",
      "metadata": {
        "id": "JOU2IkQYszFQ",
        "colab_type": "text"
      },
      "source": [
        "# Intensity Predictor\n"
      ]
    },
    {
      "cell_type": "markdown",
      "metadata": {
        "id": "tC_V6FCUumGF",
        "colab_type": "text"
      },
      "source": [
        "### Importing Libraries"
      ]
    },
    {
      "cell_type": "code",
      "metadata": {
        "id": "RlL7WET0uqDA",
        "colab_type": "code",
        "colab": {}
      },
      "source": [
        "from __future__ import print_function\n",
        "\n",
        "import math\n",
        "\n",
        "from IPython import display\n",
        "from matplotlib import cm\n",
        "from matplotlib import gridspec\n",
        "from matplotlib import pyplot as plt\n",
        "import numpy as np\n",
        "import pandas as pd\n",
        "from sklearn import metrics\n",
        "import tensorflow as tf\n",
        "from tensorflow.python.data import Dataset\n"
      ],
      "execution_count": 0,
      "outputs": []
    },
    {
      "cell_type": "markdown",
      "metadata": {
        "id": "hHS8qfqVtanb",
        "colab_type": "text"
      },
      "source": [
        "### Importing Data"
      ]
    },
    {
      "cell_type": "code",
      "metadata": {
        "id": "6i6dkOnhtDZn",
        "colab_type": "code",
        "colab": {}
      },
      "source": [
        "sleep = pd.read_csv('Sleep.csv',sep=',')\n",
        "read = pd.read_csv('Read.csv',sep=',')\n",
        "normal = pd.read_csv('Normal.csv',sep=',')"
      ],
      "execution_count": 0,
      "outputs": []
    },
    {
      "cell_type": "markdown",
      "metadata": {
        "id": "BJBfFU_LtedQ",
        "colab_type": "text"
      },
      "source": [
        "### Linear Regression"
      ]
    },
    {
      "cell_type": "code",
      "metadata": {
        "id": "BCyGPJIdtSP4",
        "colab_type": "code",
        "colab": {}
      },
      "source": [
        "def Training(x,y,training_epochs,learning_rate):\n",
        "\t\n",
        "\tq = float(y.max())\n",
        "\tp = -1.25 * float((y.max() - y.min())/(x.max() - x.min()))\n",
        "\t\n",
        "\tW = tf.Variable(p) \n",
        "\tb = tf.Variable(q)\n",
        "\t\n",
        "\tX = tf.placeholder(\"float\")\n",
        "\tY = tf.placeholder(\"float\")\n",
        "\n",
        "\tn = len(x)\n",
        "\t# Hypothesis \n",
        "\ty_pred = tf.add(tf.multiply(X, W), b)\n",
        "\t\n",
        "\t# Mean Squared Error Cost Function \n",
        "\tcost = tf.reduce_sum(tf.pow(y_pred-Y, 2)) / (2 * n) \n",
        "\n",
        "\toptimizer = tf.train.AdamOptimizer(learning_rate).minimize(cost) \n",
        "\n",
        "\t# Global Variables Initializer \n",
        "\tinit = tf.global_variables_initializer() \n",
        "\n",
        "\t# Starting the Tensorflow Session Classifer\n",
        "\twith tf.Session() as sess: \n",
        "\t\t# Initializing the Variables \n",
        "\t\tsess.run(init) \n",
        "\t\n",
        "\t\t# Iterating through all the epochs \n",
        "\t\tfor epoch in range(training_epochs): \n",
        "\t\t\t\n",
        "\t\t\t# Feeding each data point into the optimizer using Feed Dictionary \n",
        "\t\t\tfor (_x, _y) in zip(x, y): \n",
        "\t\t\t\tsess.run(optimizer, feed_dict = {X : _x, Y : _y}) \n",
        "\t\t\n",
        "\t\t\t# Displaying the result after every 50 epochs \n",
        "\t\t\tif (epoch + 1) % 50 == 0: \n",
        "\t\t\t\t# Calculating the cost a every epoch \n",
        "\t\t\t\tc = sess.run(cost, feed_dict = {X : x, Y : y}) \n",
        "\t\t\t\tprint(\"Epoch\", (epoch + 1), \": cost =\", c, \"W =\", sess.run(W), \"b =\", sess.run(b)) \n",
        "\t\n",
        "\t\t# Storing necessary values to be used outside the Session \n",
        "\t\ttraining_cost = sess.run(cost, feed_dict ={X: x, Y: y}) \n",
        "\t\tweight = sess.run(W) \n",
        "\t\tbias = sess.run(b) \n",
        "\n",
        "\t# Calculating the predictions \n",
        "\tpredictions = weight * x + bias \n",
        "\tprint(\"Training cost =\", training_cost, \"Weight =\", weight, \"bias =\", bias, '\\n') \n",
        "\n",
        "\t# Plotting the Results \n",
        "\tplt.plot(x, y, 'ro', label ='Original data') \n",
        "\tplt.plot(x, predictions, label ='Fitted line') \n",
        "\tplt.title('Linear Regression Result') \n",
        "\tplt.legend() \n",
        "\tplt.show()\n",
        "\n",
        "\treturn weight,bias\n",
        "\t"
      ],
      "execution_count": 0,
      "outputs": []
    },
    {
      "cell_type": "markdown",
      "metadata": {
        "id": "ktPx0qeytxUr",
        "colab_type": "text"
      },
      "source": [
        "### Visualising Data"
      ]
    },
    {
      "cell_type": "code",
      "metadata": {
        "id": "eSXBBz3Bt9pp",
        "colab_type": "code",
        "outputId": "d4515d8c-52f9-4ff9-bf14-7ff43eb0faea",
        "colab": {
          "base_uri": "https://localhost:8080/",
          "height": 294
        }
      },
      "source": [
        "x_sleep = sleep[\"Intensity\"]\n",
        "y_sleep = sleep[\"Output\"]\n",
        "\n",
        "# Plot of Training Data \n",
        "plt.scatter(x_sleep, y_sleep) \n",
        "plt.xlabel('x') \n",
        "plt.xlabel('y') \n",
        "plt.title(\"Training Data\") \n",
        "plt.show() "
      ],
      "execution_count": 64,
      "outputs": [
        {
          "output_type": "display_data",
          "data": {
            "image/png": "[encoded data removed]",
            "text/plain": [
              "<Figure size 432x288 with 1 Axes>"
            ]
          },
          "metadata": {
            "tags": []
          }
        }
      ]
    },
    {
      "cell_type": "code",
      "metadata": {
        "id": "eYnt7ft3vCkK",
        "colab_type": "code",
        "outputId": "7b7a54f5-b64b-4c0e-daa1-cb872a6bcd93",
        "colab": {
          "base_uri": "https://localhost:8080/",
          "height": 294
        }
      },
      "source": [
        "x_read = read[\"Intensity\"]\n",
        "y_read = read[\"Output\"]\n",
        "\n",
        "# Plot of Training Data \n",
        "plt.scatter(x_read, y_read) \n",
        "plt.xlabel('x') \n",
        "plt.xlabel('y') \n",
        "plt.title(\"Training Data\") \n",
        "plt.show() "
      ],
      "execution_count": 65,
      "outputs": [
        {
          "output_type": "display_data",
          "data": {
            "image/png": "[encoded data removed]",
            "text/plain": [
              "<Figure size 432x288 with 1 Axes>"
            ]
          },
          "metadata": {
            "tags": []
          }
        }
      ]
    },
    {
      "cell_type": "code",
      "metadata": {
        "id": "5xzXh2izvOS4",
        "colab_type": "code",
        "outputId": "e33e80a5-a987-444e-f4de-9eb283bc3261",
        "colab": {
          "base_uri": "https://localhost:8080/",
          "height": 294
        }
      },
      "source": [
        "x_normal = normal[\"Intensity\"]\n",
        "y_normal = normal[\"Output\"]\n",
        "\n",
        "# Plot of Training Data \n",
        "plt.scatter(x_normal, y_normal) \n",
        "plt.xlabel('x') \n",
        "plt.xlabel('y') \n",
        "plt.title(\"Training Data\") \n",
        "plt.show() "
      ],
      "execution_count": 66,
      "outputs": [
        {
          "output_type": "display_data",
          "data": {
            "image/png": "[encoded data removed]",
            "text/plain": [
              "<Figure size 432x288 with 1 Axes>"
            ]
          },
          "metadata": {
            "tags": []
          }
        }
      ]
    },
    {
      "cell_type": "markdown",
      "metadata": {
        "id": "OZ2LzWEyx-nT",
        "colab_type": "text"
      },
      "source": [
        "### Training Data"
      ]
    },
    {
      "cell_type": "code",
      "metadata": {
        "id": "6_X6N8IDyCa1",
        "colab_type": "code",
        "colab": {}
      },
      "source": [
        "Weight_sleep,Bias_sleep =  Training(x_sleep,y_sleep,learning_rate = 0.0003,training_epochs = 10)"
      ],
      "execution_count": 0,
      "outputs": []
    },
    {
      "cell_type": "code",
      "metadata": {
        "id": "AM3IV7pvzcbm",
        "colab_type": "code",
        "outputId": "e3f7e2b2-da25-4e1a-d3c7-d799a313775c",
        "colab": {
          "base_uri": "https://localhost:8080/",
          "height": 423
        }
      },
      "source": [
        "Weight_read,Bias_read =  Training(x_read,y_read,learning_rate = 0.003,training_epochs = 300)"
      ],
      "execution_count": 94,
      "outputs": [
        {
          "output_type": "stream",
          "text": [
            "Epoch 50 : cost = 191.2113 W = -0.9549596 b = 903.8261\n",
            "Epoch 100 : cost = 184.88322 W = -0.9583283 b = 905.7464\n",
            "Epoch 150 : cost = 178.6749 W = -0.9612628 b = 907.58374\n",
            "Epoch 200 : cost = 173.25443 W = -0.9640381 b = 909.33057\n",
            "Epoch 250 : cost = 168.55896 W = -0.96666527 b = 910.9891\n",
            "Epoch 300 : cost = 164.5176 W = -0.9691483 b = 912.56067\n",
            "Training cost = 164.5176 Weight = -0.9691483 bias = 912.56067 \n",
            "\n"
          ],
          "name": "stdout"
        },
        {
          "output_type": "display_data",
          "data": {
            "image/png": "[encoded data removed]",
            "text/plain": [
              "<Figure size 432x288 with 1 Axes>"
            ]
          },
          "metadata": {
            "tags": []
          }
        }
      ]
    },
    {
      "cell_type": "code",
      "metadata": {
        "id": "_ycNteUPzdBQ",
        "colab_type": "code",
        "colab": {
          "base_uri": "https://localhost:8080/",
          "height": 423
        },
        "outputId": "f23b6ea6-fcfc-4770-86bd-07d8c7ecae67"
      },
      "source": [
        "Weight_normal,Bias_normal =  Training(x_normal,y_normal,learning_rate = 0.0053,training_epochs = 300)"
      ],
      "execution_count": 108,
      "outputs": [
        {
          "output_type": "stream",
          "text": [
            "Epoch 50 : cost = 102.81328 W = -0.94438416 b = 699.9159\n",
            "Epoch 100 : cost = 102.1032 W = -0.9444982 b = 699.80524\n",
            "Epoch 150 : cost = 101.814674 W = -0.94441694 b = 699.7215\n",
            "Epoch 200 : cost = 101.60436 W = -0.94434476 b = 699.6564\n",
            "Epoch 250 : cost = 101.430214 W = -0.94428384 b = 699.6019\n",
            "Epoch 300 : cost = 101.255806 W = -0.9442212 b = 699.54675\n",
            "Training cost = 101.255806 Weight = -0.9442212 bias = 699.54675 \n",
            "\n"
          ],
          "name": "stdout"
        },
        {
          "output_type": "display_data",
          "data": {
            "image/png": "[encoded data removed]",
            "text/plain": [
              "<Figure size 432x288 with 1 Axes>"
            ]
          },
          "metadata": {
            "tags": []
          }
        }
      ]
    }
  ]
}